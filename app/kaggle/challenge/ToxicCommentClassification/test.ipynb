{
 "cells": [
  {
   "cell_type": "code",
   "execution_count": 2,
   "metadata": {
    "collapsed": false
   },
   "outputs": [],
   "source": [
    "import os\n",
    "import pandas as pd\n",
    "\n",
    "from keras.preprocessing.text import Tokenizer\n"
   ]
  },
  {
   "cell_type": "code",
   "execution_count": 3,
   "metadata": {},
   "outputs": [],
   "source": [
    "from app.kaggle.challenge.ToxicCommentClassification import DAT_TRAIN, DAT_TEST, DAT"
   ]
  },
  {
   "cell_type": "code",
   "execution_count": 3,
   "metadata": {},
   "outputs": [],
   "source": [
    "import traceback\n",
    "import numpy as np"
   ]
  },
  {
   "cell_type": "code",
   "execution_count": 4,
   "metadata": {},
   "outputs": [],
   "source": [
    "if not os.path.isfile(DAT('train.sample.csv')):\n",
    "    train_df = pd.read_csv(DAT('train.csv'))\n",
    "    train_sample_df = train_df.sample(n=10000)\n",
    "    train_sample_df.to_csv(DAT('train.sample.csv'), index=False)\n",
    "else:\n",
    "    train_sample_df = pd.read_csv(DAT('train.sample.csv'))"
   ]
  },
  {
   "cell_type": "code",
   "execution_count": 5,
   "metadata": {},
   "outputs": [
    {
     "name": "stdout",
     "output_type": "stream",
     "text": [
      "             id                                       comment_text  toxic  \\\n0  728401074302  , 11 September 2009 (UTC)\\nYes, that is a much...      0   \n1  738481898930  I don't think that a single brief mention in D...      0   \n2   71276375551  HIS INFERNAL MAJESTY rock alternative????? \\n\\...      1   \n3  368341995637  NoticeTABThis user is new to Wikipedia. Please...      0   \n4  839736431787  Hello again! Nagyon szviesen. Their lived near...      0   \n\n   severe_toxic  obscene  threat  insult  identity_hate  \n0             0        0       0       0              0  \n1             0        0       0       0              0  \n2             0        0       0       0              0  \n3             0        0       0       0              0  \n4             0        0       0       0              0  \n"
     ]
    }
   ],
   "source": [
    "print(train_sample_df.head(5))"
   ]
  },
  {
   "cell_type": "code",
   "execution_count": 6,
   "metadata": {},
   "outputs": [],
   "source": [
    "from keras.preprocessing.text import Tokenizer"
   ]
  },
  {
   "cell_type": "code",
   "execution_count": 7,
   "metadata": {},
   "outputs": [],
   "source": [
    "tokenizer = Tokenizer(num_words=100000)\n",
    "tokenizer.fit_on_texts(train_sample_df['comment_text'])"
   ]
  },
  {
   "cell_type": "code",
   "execution_count": 8,
   "metadata": {},
   "outputs": [],
   "source": [
    "squese = tokenizer.texts_to_sequences(train_sample_df['comment_text'])"
   ]
  },
  {
   "cell_type": "code",
   "execution_count": 9,
   "metadata": {},
   "outputs": [],
   "source": [
    "print(squese[2])"
   ]
  },
  {
   "cell_type": "code",
   "execution_count": 10,
   "metadata": {},
   "outputs": [],
   "source": [
    "print(len(tokenizer.word_counts.keys()))"
   ]
  },
  {
   "cell_type": "code",
   "execution_count": null,
   "metadata": {},
   "outputs": [],
   "source": [
    "def text_collect_typo(text):\n",
    "    \n",
    "    "
   ]
  },
  {
   "cell_type": "code",
   "execution_count": 25,
   "metadata": {},
   "outputs": [],
   "source": [
    "from data.glove import path_glove_840B_300d as EMBEDDING_FILE"
   ]
  },
  {
   "cell_type": "code",
   "execution_count": 14,
   "metadata": {},
   "outputs": [
    {
     "name": "stdout",
     "output_type": "stream",
     "text": [
      "Indexing word vectors\n\n"
     ]
    }
   ],
   "source": [
    "# 获取一个标准的单词库\n",
    "print('Indexing word vectors')\n",
    "\n",
    "# Glove Vectors\n",
    "# embeddings_index = {}\n",
    "# f = open(EMBEDDING_FILE)\n",
    "# for line in f:\n",
    "#     values = line.split()\n",
    "#     word = values[0]\n",
    "#     try:\n",
    "#         coefs = np.asarray(values[1:], dtype='float32')\n",
    "#         embeddings_index[word] = coefs\n",
    "#     except Exception as e:\n",
    "#         print(line)\n",
    "#         pass\n",
    "# f.close()\n",
    "# \n",
    "# print('Total %s word vectors.' % len(embeddings_index))\n",
    "print('')"
   ]
  },
  {
   "cell_type": "code",
   "execution_count": 4,
   "metadata": {},
   "outputs": [],
   "source": [
    "import re"
   ]
  },
  {
   "cell_type": "code",
   "execution_count": 5,
   "metadata": {},
   "outputs": [],
   "source": [
    "special_character_removal = re.compile(r'[^a-z\\d ]', re.IGNORECASE)"
   ]
  },
  {
   "cell_type": "code",
   "execution_count": 13,
   "metadata": {},
   "outputs": [],
   "source": [
    "train_sample_df['comment_text_clean'] = \\\n",
    "    train_sample_df['comment_text'].apply(\n",
    "        lambda x: special_character_removal.sub(' ', x)\n",
    "    )"
   ]
  },
  {
   "cell_type": "code",
   "execution_count": 14,
   "metadata": {},
   "outputs": [
    {
     "name": "stdout",
     "output_type": "stream",
     "text": [
      "             id                                       comment_text  toxic  \\\n0  728401074302  , 11 September 2009 (UTC)\\nYes, that is a much...      0   \n\n   severe_toxic  obscene  threat  insult  identity_hate  \\\n0             0        0       0       0              0   \n\n                                  comment_text_clean  \n0    11 September 2009  UTC  Yes  that is a much ...  \n"
     ]
    }
   ],
   "source": [
    "print(train_sample_df.head(1))"
   ]
  },
  {
   "cell_type": "code",
   "execution_count": 15,
   "metadata": {},
   "outputs": [],
   "source": [
    "raw_word_set = set()\n",
    "for line in train_sample_df['comment_text_clean'].values:\n",
    "    raw_word_set.update(\n",
    "        list([w.strip() for w in line.split()])\n",
    "    )\n",
    "raw_word_set = list(filter(lambda x: x != '', raw_word_set))"
   ]
  },
  {
   "cell_type": "code",
   "execution_count": 32,
   "metadata": {},
   "outputs": [
    {
     "name": "stdout",
     "output_type": "stream",
     "text": [
      "42716\n"
     ]
    }
   ],
   "source": [
    "print(len(raw_word_set))"
   ]
  },
  {
   "cell_type": "code",
   "execution_count": 6,
   "metadata": {},
   "outputs": [],
   "source": [
    "import enchant\n",
    "en_dict = enchant.Dict('en_US')"
   ]
  },
  {
   "cell_type": "code",
   "execution_count": 18,
   "metadata": {},
   "outputs": [],
   "source": [
    "raw_word_set_not_legal = list([w for w in raw_word_set if not en_dict.check(w)])"
   ]
  },
  {
   "cell_type": "code",
   "execution_count": 7,
   "metadata": {},
   "outputs": [
    {
     "ename": "NameError",
     "evalue": "name 'raw_word_set_not_legal' is not defined",
     "traceback": [
      "\u001b[0;31m---------------------------------------------------------------------------\u001b[0m",
      "\u001b[0;31mNameError\u001b[0m                                 Traceback (most recent call last)",
      "\u001b[0;32m<ipython-input-7-eae3d696b0c0>\u001b[0m in \u001b[0;36m<module>\u001b[0;34m()\u001b[0m\n\u001b[0;32m----> 1\u001b[0;31m \u001b[0mprint\u001b[0m\u001b[0;34m(\u001b[0m\u001b[0mlen\u001b[0m\u001b[0;34m(\u001b[0m\u001b[0mraw_word_set_not_legal\u001b[0m\u001b[0;34m)\u001b[0m\u001b[0;34m)\u001b[0m\u001b[0;34m\u001b[0m\u001b[0m\n\u001b[0m",
      "\u001b[0;31mNameError\u001b[0m: name 'raw_word_set_not_legal' is not defined"
     ],
     "output_type": "error"
    }
   ],
   "source": [
    "print(len(raw_word_set_not_legal))"
   ]
  },
  {
   "cell_type": "code",
   "execution_count": 8,
   "metadata": {},
   "outputs": [],
   "source": [
    "train_df = pd.read_csv(DAT('test.csv'))"
   ]
  },
  {
   "cell_type": "code",
   "execution_count": 9,
   "metadata": {},
   "outputs": [],
   "source": [
    "train_df[\"comment_text\"] = train_df[\"comment_text\"].fillna(\"NA\")"
   ]
  },
  {
   "cell_type": "code",
   "execution_count": 10,
   "metadata": {},
   "outputs": [],
   "source": [
    "train_df['comment_text_clean'] = \\\n",
    "    train_df['comment_text'].apply(\n",
    "        lambda x: special_character_removal.sub(' ', x)\n",
    "    )"
   ]
  },
  {
   "cell_type": "code",
   "execution_count": 12,
   "metadata": {},
   "outputs": [],
   "source": [
    "raw_word_set_full = set()\n",
    "for line in train_df['comment_text_clean'].values:\n",
    "    raw_word_set_full.update(\n",
    "        list([w.strip() for w in line.split()])\n",
    "    )\n",
    "raw_word_set_full = list(filter(lambda x: x != '', raw_word_set_full))"
   ]
  },
  {
   "cell_type": "code",
   "execution_count": 14,
   "metadata": {},
   "outputs": [
    {
     "name": "stdout",
     "output_type": "stream",
     "text": [
      "321802\n"
     ]
    }
   ],
   "source": [
    "print(len(raw_word_set_full))"
   ]
  },
  {
   "cell_type": "code",
   "execution_count": 15,
   "metadata": {},
   "outputs": [],
   "source": [
    "raw_word_set_full_not_legal = list([w for w in raw_word_set_full if not en_dict.check(w)])"
   ]
  },
  {
   "cell_type": "code",
   "execution_count": 16,
   "metadata": {},
   "outputs": [
    {
     "name": "stdout",
     "output_type": "stream",
     "text": [
      "218423\n"
     ]
    }
   ],
   "source": [
    "print(len(raw_word_set_full_not_legal))"
   ]
  },
  {
   "cell_type": "code",
   "execution_count": 21,
   "metadata": {
    "collapsed": false
   },
   "outputs": [
    {
     "name": "stdout",
     "output_type": "stream",
     "text": [
      "['adsf', 'scholasticism', 'Lvatheatre', 'pictyres', 'ethinicites', 'Bergmann', 'viewponts', 'Zwinky', 'outofcontrol', 'SES', 'Sabonis', 'synaesthetes', 'Muswell', 'NG', 'Hinde', 'Wormshill', 'evidencee', 'dho', 'Sofixit', 'Crittenden', 'lly', 'scalas', 'Universalist', 'Lundo', 'MCSTJR', 'learnportuguese', 'LLUVIA', 'Craigie', 'Sandmel', 'tehs', 'Neacoxie', 'RYTHM', 'Inprise', 'Oreilles', 'RUC', 'm1571', 'Thobe', 'tVItKh', 'assujme', 'Guaraldi', 'analizu', 'Srivijaya', 'XCORAW', 'Adolesc', 'Kubinyi', 'cratship', 'Cleves', 'Atala', 'Otakon', 'SAMAJI', 'Unban', 'exsessive', 'DocID', 'royalark', 'Haraszthy', 'articale', 'anyoen', 'weath', 'colleques', 'oiuvoi', 'TrinityBlood', 'Dydw', 'listling', 'landform', 'Ramlochan', 'Poulett', 'wcherowi', 'Grandcitas', 'Asianet', 'Naruto', 'Semde', 'PrivatAir', 'Bwa', 'Oebur', 'vikie', 'technopathy', 'Montreuil', 'RWT', 'WGC', 'meStalk', 'Giusy', '0CCcQ6AEwAA', 'Gizmon', 'oregona', 'CJKrisz', 'perfs', 'Lymphangioma', 'Ninjaforce', '20suceava', 'devealoping', 'Britanica', 'LUDRICOUS', 'Sodrel', 'testostarone', 'tek', 'Byeeeee', '4g', 'saunders', 'itselfto', 'carlike', 'respawn', 'Dialling', 'Puti', 'Besht', 'blogTV', '20Tikhonov', 'earthshattering', '०००', 'Bandeira', 'enzyclopedia', 'Spall', 'extraplating', 'jewfag0tWHY', 'Mariposa', 'overreliance', 'Infopedia', 'game2', 'LauperTAB', 'preveti', 'MacKenna', '55X', 'Telengana', 'Hilscher', 'Goodluck', 'VimRecord', 'Diora', 'putiing', 'Ghiaie', '37Z', 'Montholon', 'answer1', '9Hardy', 'lolgeeks', 'Gwaayaai', 'Mitmita', 'readded', 'JUSTAVOTE', 'FV180', 'RichardMarx2009', 'Dook', 'dwu', 'Chech', 'advetise', 'soundbites', '8Lb', 'Aitkin', 'Makinwa', 'havbev', 'globalcampus', 'siteadvisor', 'domovina', 'Kwarans', 'Theologica', 'dodati', 'riahnaas', 'SICILIAE', 'Krantikari', 'Nerts', 'Panipat', 'Pijollet', 'maywood1', 'ACBSP', 'Intercisa', 'HCAM', 'Bewdley', 'Muthalakodam', 'Grammys', 'Lantis', 'Weser', 'sineed', 'wgArticleId', 'JFDWolff', 'indifferance', '2028SBS6107M', 'brockley', 'RosseJ', 'beureu', 'Omotic', 'gemsandgemology', 'sociopolitica', 'mcinnes', 'Gurgi', 'searchnetworking', 'vecchioni', 'Konoka', 'samadhi', 'denkraam', 'Mallord', 'FEEND', 'Bruch', 'Sawan', 'HDFD', 'Autowarn', 'Ecclesia', 'JTF', 'Ferrand', 'drae', 'Nambuthiris', 'Camdenton', 'whenver']\n"
     ]
    }
   ],
   "source": [
    "print(raw_word_set_full_not_legal[0:200])"
   ]
  },
  {
   "cell_type": "code",
   "execution_count": 37,
   "metadata": {
    "collapsed": false
   },
   "outputs": [],
   "source": [
    "print(raw_word_set_full_not_legal[400:700])"
   ]
  },
  {
   "cell_type": "code",
   "execution_count": 25,
   "metadata": {},
   "outputs": [
    {
     "data": {
      "text/plain": [
       "['encyclopedia',\n 'encyclopedic',\n 'cyclopedia',\n \"encyclopaedia's\",\n 'cyclopean',\n 'encirclement',\n 'encyclical']"
      ]
     },
     "execution_count": 25,
     "metadata": {},
     "output_type": "execute_result"
    }
   ],
   "source": [
    "en_dict.suggest('enzyclopedia')"
   ]
  },
  {
   "cell_type": "code",
   "execution_count": 7,
   "metadata": {},
   "outputs": [],
   "source": [
    "tokenizer = Tokenizer()\n"
   ]
  },
  {
   "cell_type": "code",
   "execution_count": 8,
   "metadata": {},
   "outputs": [],
   "source": [
    "tokenizer.fit_on_texts(train_sample_df['comment_text'])"
   ]
  },
  {
   "cell_type": "code",
   "execution_count": 9,
   "metadata": {},
   "outputs": [
    {
     "data": {
      "text/plain": [
       "[[1452],\n [304],\n [1913],\n [1913],\n [1175],\n [],\n [888],\n [1902],\n [],\n [609],\n [5],\n [888],\n [304],\n [],\n [7],\n [407],\n [],\n [609],\n [304],\n [1180],\n [],\n [1902],\n [1175],\n [763],\n [1666]]"
      ]
     },
     "execution_count": 9,
     "metadata": {},
     "output_type": "execute_result"
    }
   ],
   "source": [
    "tokenizer.texts_to_sequences('hello my name is New York')"
   ]
  },
  {
   "cell_type": "code",
   "execution_count": 10,
   "metadata": {},
   "outputs": [
    {
     "data": {
      "text/plain": [
       "{'marian': 1,\n 'آذربایجان': 1,\n 'mythological': 2,\n 'curves': 3,\n \"moonbeam's\": 1,\n 'summoning': 1,\n '2012\\u200e': 1,\n 'falcon': 4,\n 'kazakhstan': 1,\n 'philippines': 5,\n 'sort': 101,\n 'erets': 1,\n 'neurotransmitters': 1,\n 'reactionary': 3,\n 'свифт': 1,\n 'cult': 10,\n 'thunar': 1,\n 'antlion': 1,\n 'haeb': 1,\n 'moderate': 8,\n 'locked': 17,\n 'pavelic': 1,\n 'performed': 11,\n 'um': 9,\n 'yot': 1,\n 'maha': 1,\n 'pedophile': 7,\n 'belonged': 3,\n 'marias': 1,\n 'happiness': 1,\n 'weakening': 1,\n \"story'\": 1,\n \"yeshuwa's\": 2,\n 'prowling': 1,\n 'i’ve': 3,\n 'aaaah': 1,\n 'kr': 1,\n 'karolus': 1,\n 'math': 12,\n 'exploiting': 1,\n 'figment': 1,\n 'ee': 1,\n 'hybrid': 3,\n 'teresa': 1,\n 'ggs': 1,\n 'lofting': 1,\n 'poop': 6,\n 'msoamu': 1,\n 'provocative': 2,\n 'ont': 1,\n 'rigueur': 1,\n 'googleplex': 1,\n 'crane': 2,\n 'writtings': 2,\n 'reassessments': 1,\n 'ty': 1,\n 'theorised': 1,\n 'cliché': 1,\n 'manifestly': 2,\n 'refero': 1,\n 'baugh': 1,\n 'crappy': 7,\n 'undefended': 1,\n 'oddly': 3,\n 'tun': 1,\n \"'official'\": 1,\n 'nobel': 3,\n '8487969402': 1,\n 'runescare': 1,\n 'foreignpolicy': 1,\n 'psy': 1,\n '1830': 1,\n 'gardens': 2,\n 'kiran90': 1,\n 'poses': 2,\n 'wasa': 1,\n \"'back'stabbity\": 1,\n 'jazz': 1,\n 'tyne': 1,\n 'scholarly': 16,\n 'boat': 7,\n 'properly': 45,\n 'activist': 11,\n 'genitalia': 2,\n 'inargualby': 1,\n 'scheduling': 1,\n 'crude': 4,\n 'vandelism': 2,\n 'temperate': 1,\n \"empire's\": 2,\n 'minimize': 4,\n 'disagrement': 1,\n 'sincerity': 1,\n 'leukemia': 1,\n '25': 63,\n 'wikipedians´': 1,\n 'addicted': 2,\n 'refugees': 2,\n 'airliners': 1,\n 'randomized': 1,\n 'degenerate': 1,\n 'commonplace': 1,\n 'selectivity': 1,\n 'permaban': 1,\n 'paramahansa': 1,\n \"booyaka's\": 1,\n 'adap': 1,\n 'someting': 2,\n 'forks': 2,\n 'lovely': 11,\n 'spezialabzeichen': 1,\n 'window': 14,\n 'akira': 1,\n 'triumph': 5,\n 'pedals': 1,\n 'boiling': 2,\n 'auditing': 1,\n 'capability': 5,\n 'bones': 4,\n 'sourcesnot': 1,\n 'help': 502,\n \"janov's\": 1,\n 'reresent': 1,\n 'seas': 3,\n 'spade': 2,\n 'heywar': 1,\n 'linguisitic': 1,\n 'hiphop': 1,\n \"'informer'\": 1,\n 'processor': 2,\n 'rfpp': 2,\n 'stratfordian': 1,\n 'above—my': 1,\n 'vol': 7,\n 'nandesuka': 1,\n 'annum': 1,\n 'refuted': 9,\n \"kevlar67's\": 1,\n 'regs': 2,\n 'hitters': 1,\n 'stark': 2,\n 'listen': 38,\n 'conference': 14,\n 'unfreeze': 1,\n 'trine': 1,\n 'importance': 50,\n 'hardyz': 1,\n 'slavomacedonian': 1,\n 'gaither': 1,\n 'lygophile': 1,\n 'listed': 147,\n 'disservice': 2,\n \"galaxy's\": 1,\n 'jong': 2,\n 'pq': 1,\n 'recommends': 4,\n 'ended': 16,\n 'libertarian': 7,\n 'dusty': 2,\n 'garde': 1,\n 'nashinski': 1,\n 'oblique': 1,\n 'areas': 42,\n 'annoyed': 3,\n 'folkloric': 1,\n 'lighten': 1,\n 'lama': 2,\n 'patronise': 1,\n 'madrid': 2,\n 'danny': 1,\n 'gmc': 2,\n 'iwp': 1,\n 'disappointed': 8,\n 'engage': 19,\n 'vicious': 4,\n 'penguin': 1,\n 'cabiai': 1,\n 'cheer': 2,\n 'consist': 2,\n 'hotarticles': 1,\n 'ruined': 5,\n 'conveyed': 2,\n 'pradesh': 3,\n 'announcers': 2,\n 'alexa': 1,\n 'hautbois': 1,\n 'trenchantly': 1,\n \"'it\": 3,\n 'nimitz': 1,\n 'talent': 3,\n 'sweeney': 1,\n 'barns': 1,\n 'penderecki': 1,\n 'republish': 1,\n 'archimedean': 1,\n '\\u200e': 2,\n '75024': 1,\n 'rodionov': 1,\n 'headrush': 1,\n 'contribs': 140,\n 'bu': 5,\n 'viz': 3,\n \"mossadeq's\": 1,\n 'moulton': 1,\n 'coveting': 1,\n 'comfort': 7,\n 'fudged': 2,\n 'unimpressed': 1,\n \"korea's\": 1,\n 'aragorn': 1,\n 'extraordinary': 4,\n 'dmso': 1,\n 'dammit': 1,\n 'lineup': 1,\n 'hillside': 1,\n 'whiney': 1,\n '192370037': 1,\n 'immediately': 44,\n 'thingamajig': 1,\n 'decides': 7,\n 'charlie': 3,\n 'cut': 40,\n 'interconnectivity': 1,\n 'difference': 53,\n 'propagandistic': 1,\n \"milemoney's\": 1,\n 'spurioness': 1,\n 'npcs': 1,\n 'molobo': 1,\n 'shade': 2,\n 'taxpayers': 2,\n 'corporation': 11,\n 'william': 28,\n 'ideas': 43,\n \"splc's\": 1,\n 'stripping': 2,\n 'hoxharian': 1,\n 'testified': 1,\n 'foundational': 3,\n 'shortened': 1,\n 'email•': 1,\n 'draw': 21,\n 'kasson': 1,\n 'edgar181': 3,\n 'mindfulness': 1,\n \"kaposi's\": 1,\n 'muzemike': 1,\n 'motor': 5,\n 'reusable': 1,\n 'intellect': 2,\n 'immersed': 1,\n 'randall': 2,\n 'codepoint': 1,\n 'esque': 1,\n 'goeth': 1,\n 'howard': 6,\n 'texascabledoctorsllc': 1,\n 'quaxo': 1,\n 'unspeedied': 1,\n 'obtuse': 4,\n 'itanium': 1,\n 'son': 35,\n 'resource': 12,\n \"'anti\": 3,\n 'basis': 53,\n 'cydebot': 1,\n 'northeast': 3,\n 'israelian': 1,\n 'èldegoz': 1,\n 'c3': 1,\n 'meager': 1,\n 'byline': 2,\n 'lily': 1,\n 'beret': 1,\n 'feminist': 5,\n 'klans': 1,\n 'crop': 4,\n 'arrangements': 1,\n 'achieve': 12,\n 'edgar': 1,\n \"money's\": 1,\n 'sumple’s': 1,\n 'canceled': 1,\n 'kitchen': 2,\n 'kraft': 1,\n 'informed': 21,\n 'jeronimo': 1,\n 'mississippi': 3,\n 'pitched': 1,\n '30': 81,\n \"giant's\": 1,\n 'teaching': 10,\n 'outs': 1,\n 'adkin': 1,\n 'elephant': 2,\n 'extirpated': 1,\n 'roas': 1,\n 'psychotic': 1,\n 'baxhaku': 1,\n 'embellishing': 1,\n 'khamis': 1,\n 'ojs': 1,\n '68cyg': 1,\n 'whinsec': 1,\n 'irrationally': 1,\n 'duncan': 2,\n 'mbz1': 1,\n 'csi': 3,\n 'anam': 1,\n 'fins': 1,\n 'talkpages': 2,\n \"''''lee\": 1,\n 'butter': 3,\n 'exposition': 2,\n 'signing': 9,\n \"adam's\": 1,\n '197': 7,\n '580': 2,\n 'tabdidyk': 1,\n 'bil': 1,\n 'afaic': 1,\n 'screen': 30,\n 'chaosmaster16': 1,\n 'mmlp': 1,\n 'buttdaddy': 1,\n 'language’': 2,\n 'siant': 1,\n 'skepticism': 1,\n '82219445': 1,\n 'torchwood': 2,\n 'muir': 2,\n \"merkezyeniköy's\": 1,\n 'carling': 1,\n 'enpeachment': 1,\n 'inglourious': 1,\n 'macedon': 1,\n 'docking': 2,\n 'quotes': 39,\n 'ahahahhaaha': 1,\n 'sicko': 2,\n 'nerves': 2,\n 'ext24': 1,\n 'controlling': 1,\n \"yepes's\": 1,\n \"angier's\": 1,\n 'refraining': 2,\n 'find': 476,\n 'smartse': 1,\n 'taken': 139,\n 'lerman': 1,\n 'placed': 112,\n 'crum375': 1,\n 'alarms': 1,\n 'hammer1980': 1,\n 'prevented': 3,\n 'wikidas': 1,\n 'rotect': 1,\n '17–18': 1,\n 'disorders': 2,\n '657360828': 1,\n 'formulated': 4,\n 'fixes': 2,\n 'ripoche’s': 1,\n 'glencoe': 1,\n 'concerns': 66,\n 'returns': 6,\n 'departure': 3,\n 'tahrirat': 1,\n 'lic': 1,\n 'skull': 6,\n \"yugoslavia's\": 1,\n 'asclepius': 1,\n 'starčević': 1,\n 'treaty': 8,\n 'tarred': 1,\n 'aixle12': 1,\n 'broached': 1,\n 'belligerence': 1,\n 'weev': 2,\n \"ya'll\": 1,\n 'miscategorization': 1,\n 'beyerlein': 1,\n 'directors': 3,\n 'stryker': 1,\n 'tended': 1,\n '1966': 5,\n 'vertify': 1,\n 'majority': 61,\n 'taxicabs': 1,\n 'futurama': 1,\n 'huangdi': 1,\n 'qualifying': 1,\n 'committees': 4,\n 'patrollers': 1,\n 'sawyer': 2,\n 'caragounis': 1,\n 'enrica': 1,\n 'nl': 3,\n 'fields': 13,\n 'crankiness': 1,\n 'middletown': 1,\n 'twig': 1,\n 'chalukyas': 2,\n 'chola': 3,\n 'coatrack': 2,\n 'perpare': 1,\n '8522': 1,\n 'legislation': 8,\n 'ent': 1,\n 'declassified': 1,\n 'lording': 1,\n 'wikipedai': 1,\n \"bird's\": 1,\n 'guards': 1,\n 'chamberlain': 1,\n 'anglicised': 1,\n 'abusing': 16,\n 'ammendment': 1,\n \"politician's\": 1,\n 'clinical': 3,\n 'thorpe': 1,\n 'joshuaz': 1,\n 'caution': 4,\n 'marketplace': 1,\n 'nonliving': 1,\n 'karaviran': 1,\n '2086': 1,\n 'rfc': 39,\n 'fabrication': 3,\n 'slander': 10,\n 'wikitruth': 1,\n 'hoverboards': 1,\n \"o'higgins\": 1,\n 'calendarwatcher': 1,\n 'waring': 2,\n 'tidbit': 3,\n 'sulayman': 1,\n 'spin': 10,\n 'oun': 1,\n 'seize': 4,\n 'academia': 6,\n 'supplanted': 1,\n 'cracked': 1,\n 'voyt13': 1,\n 'sightseeing': 1,\n \"'passengers'\": 1,\n 'kleine': 1,\n 'principality': 2,\n 'voicing': 2,\n 'visible': 12,\n 'miseleading': 1,\n 'sob': 2,\n 'wages': 3,\n 'librarians': 1,\n 'pleading': 1,\n 'sponge': 1,\n 'demand': 16,\n 'tommorow': 3,\n 'mtc': 1,\n 'honored': 1,\n 'saved': 12,\n 'propogate': 1,\n 'retract': 7,\n 'modeled': 2,\n 'relief': 4,\n 'personification': 2,\n 'souce': 1,\n 'sereno': 1,\n 'sensations': 1,\n 'taxation': 1,\n 'peacocks': 1,\n 'camp': 11,\n 'untouchable': 2,\n \"brauer's\": 1,\n 'darfur': 1,\n 'exponention': 1,\n 'bidding': 2,\n 'shrinked': 1,\n 'inagist': 1,\n 'anta': 1,\n 'libelous': 2,\n \"ariel's\": 1,\n 'material': 165,\n 'intending': 3,\n 'similiar': 3,\n 'selecting': 11,\n 'colleague': 4,\n '1982': 3,\n 'substantiated': 4,\n 'politic·': 1,\n 'tyre': 1,\n 'websource': 2,\n 'eluding': 1,\n 'serena': 1,\n 'talkin': 1,\n 'aforementioned': 10,\n 'snp': 2,\n 'massive': 18,\n 'wsi': 1,\n 'cap': 3,\n 'foucault': 1,\n 'fossilized': 1,\n 'wrenched': 1,\n 'breaching': 4,\n '00pm': 1,\n 'intervocalic': 1,\n 'tad': 2,\n 'phoebe': 1,\n 'honchos': 1,\n 'attribute': 8,\n 'torturing': 2,\n 'huf': 1,\n 'utc': 402,\n 'u': 144,\n 'consists': 7,\n 'ardoyne': 1,\n 'obsequiesness': 1,\n 'bret': 2,\n 'derived': 8,\n 'richeye': 1,\n 'felis': 1,\n 'icd': 1,\n 'phenomenons': 1,\n 'dantherocker1': 1,\n 'fiddler': 1,\n 'consuming': 8,\n 'tracking': 3,\n 'hampi': 1,\n 'daemons': 1,\n 'zionismontheweb': 1,\n \"'fuck'\": 1,\n 'oohhhh': 1,\n 'katyn': 2,\n 'chan': 4,\n \"lookin'\": 2,\n 'cape': 3,\n \"pfd's\": 1,\n 'irb': 1,\n 'sanchez': 7,\n 'chart': 15,\n 'spean': 1,\n 'titkled': 1,\n 'nagarmotha': 1,\n 'widr': 1,\n 'beserk': 1,\n \"cronin's\": 1,\n 'command': 9,\n 'axes': 3,\n 'jasenm222': 1,\n '458': 1,\n 'bros': 4,\n 'ave': 1,\n '1885': 1,\n 'implementations': 1,\n 'toughest': 1,\n 'ordo': 1,\n 'west': 30,\n 'adoration': 1,\n 'rafe': 3,\n 'klamm': 1,\n 'attacking': 36,\n 'angwy': 1,\n 'smiles': 4,\n 'adapting': 1,\n 'ununique': 1,\n 'suggests': 24,\n 'zaviye': 1,\n 'syllables': 2,\n 'rapper': 6,\n 'in': 3858,\n 'tantamount': 2,\n 'randomly': 7,\n 'usages': 1,\n 'demonicus': 1,\n 'revolving': 1,\n 'advantages': 4,\n 'alexandria': 2,\n 'gonazalez': 1,\n 'hadith': 1,\n 'specialized': 2,\n 'europe': 30,\n 'paris': 6,\n \"match's\": 1,\n 'majisty': 1,\n 'doubt': 79,\n 'aucaman': 2,\n 'portalish': 1,\n 'compressed': 2,\n 'survives': 1,\n 'grassy': 1,\n \"artists'\": 2,\n 'hrh': 1,\n 'declarations': 1,\n 'vandalized': 17,\n \"'back'\": 1,\n 'hawaii': 5,\n 'pessimist': 1,\n 'uxbridge': 1,\n '526207771734048769': 1,\n 'populartrality': 1,\n 'username': 79,\n 'sonichu': 1,\n 'yooo': 1,\n 'rodhullandemu': 4,\n 'disadvantage': 1,\n 'measles': 1,\n 'hoobler': 1,\n 'islas': 1,\n 'spine': 2,\n 'twirled': 2,\n 'switzerland': 3,\n '20171': 1,\n '643': 1,\n 'setterfield': 1,\n 'unethical': 1,\n 'catigates': 1,\n 'introspect': 1,\n \"o'reilly\": 3,\n 'clayton': 2,\n 'firing': 2,\n '200': 29,\n 'fundie': 1,\n '102': 11,\n 'diametrically': 1,\n 'blargh': 1,\n 'contests': 1,\n 'manure': 1,\n 'couched': 2,\n 'plus4chan': 1,\n '“takrurien”': 1,\n 'factions': 5,\n 'symbols': 8,\n 'supérieur': 1,\n 'eyrian': 1,\n 'etna': 1,\n 'aggro': 2,\n 'bantustans': 1,\n 'hubbard': 2,\n 'overheear': 1,\n 'corner': 12,\n 'transparency': 1,\n 'nm0189172': 1,\n 'knowledgable': 1,\n 'meatball': 2,\n 'rebecca': 1,\n 'prototype': 3,\n 'triprotic': 1,\n 'averaged': 1,\n 'post': 215,\n 'hobbits': 1,\n 'hunt': 6,\n 'creator': 15,\n 'warplane': 1,\n 'colloquy': 1,\n 'speculations': 1,\n 'daicaregos': 1,\n 'unorthodox': 1,\n 'commonsense': 1,\n 'thankless': 2,\n 'eurasia': 2,\n 'fanfare': 1,\n 'inuse': 1,\n 'brain': 24,\n 'invokes': 1,\n 'ios': 2,\n '≤': 1,\n 'buoyant': 1,\n 'minerals': 1,\n 'jgeorge60': 1,\n \"foyle's\": 1,\n 'system—of': 1,\n 'favored': 2,\n 'posers': 1,\n 'build': 22,\n 'brokered': 1,\n 'closet': 3,\n 'baller': 1,\n 'enquiry': 2,\n 'resonate': 1,\n 'fattened': 1,\n 'maverick': 1,\n 'rotates': 1,\n 'moneybomb': 1,\n 'dreamguy': 2,\n 'ellas': 1,\n 'alex7777': 1,\n 'feller': 1,\n 'quality': 64,\n '1936': 2,\n 'polish': 24,\n 'criticising': 2,\n 'mesonet': 1,\n 'nor': 125,\n 'matted': 2,\n 'yunshui': 3,\n 'texans': 2,\n 'prevalance': 1,\n \"forster's\": 1,\n 'wikipidia': 1,\n 'choking': 1,\n 'presumptuous': 1,\n 'diction': 1,\n 'virtue': 3,\n 'satanizing': 1,\n 'pipeline': 1,\n 'resides': 2,\n \"'is'\": 1,\n 'reuploaded': 1,\n 'contracts': 5,\n 'wtf': 17,\n 'spirtual': 1,\n 'na': 7,\n 'populationsbelow': 1,\n 'bahram': 1,\n 'web”': 1,\n 'deadmeat': 2,\n 'tv': 50,\n 'possesses': 1,\n \"lama's\": 1,\n 'noittall': 1,\n 'aerodromes': 1,\n 'careless': 5,\n 'apologised': 2,\n 'tabbodnar': 1,\n 'stain': 1,\n 'codec': 1,\n 'incorporation': 2,\n 'drini': 1,\n 'sen': 2,\n 'manufacture': 1,\n 'consortium': 2,\n \"nightscream's\": 1,\n 'programing': 1,\n 'something': 424,\n 'kai': 3,\n '81': 20,\n 'henrik': 1,\n 'fucken': 1,\n 'holocoust': 1,\n 'wote': 1,\n 'drosophila': 1,\n 'thank': 559,\n 'bonnet': 1,\n 'groan': 1,\n 'chancellor': 2,\n 'trawling': 1,\n 'unnecessarily': 5,\n 'mori': 1,\n 'disputes': 25,\n 'implementation': 5,\n 'pupil': 2,\n 'portmanteau': 1,\n 'barrage': 1,\n 'banding': 1,\n 'z520': 1,\n 'haven': 4,\n 'kriya': 1,\n 'e2bf': 1,\n 'preparatory': 1,\n 'uptoour': 1,\n \"winifred's\": 1,\n 'ww2': 2,\n 'zowie': 1,\n 'maddie': 1,\n 'immature': 9,\n '3rdeyefilm': 1,\n \"zappa's\": 1,\n 'lessly': 1,\n 'celibate': 1,\n 'ap': 4,\n 'heroic': 3,\n 'scotia': 2,\n \"piece's\": 1,\n 'streetcars': 1,\n 'tariq': 1,\n 'casket': 1,\n 'idt': 1,\n \"admin's\": 4,\n 'incantation': 1,\n 'rewritten': 26,\n 'credibility': 29,\n 'freelancer': 1,\n 'shtokavian': 2,\n 'germann': 1,\n 'formulations': 1,\n 'bess': 1,\n 'soviet': 19,\n 'atabek': 1,\n 'userified': 1,\n '2x': 1,\n 'distract': 2,\n 'adelaidenow': 1,\n 'donner': 1,\n 'misconduct': 4,\n 'aknowledges': 1,\n 'shielded': 1,\n \"prof's\": 1,\n 'tables': 17,\n 'opportunistic': 1,\n 'ethnonym': 1,\n 'live': 78,\n 'projecto': 1,\n 'palin': 3,\n 'recreate': 5,\n 'legally': 10,\n 'penetrations': 1,\n 'cease': 14,\n 'phlem': 1,\n 'newsmedia': 1,\n \"god's\": 6,\n 'bureaucrat': 2,\n 'oversees': 1,\n 'consumption': 3,\n 'disturbing': 10,\n 'notation': 8,\n 'eugenios': 1,\n 'hipi': 1,\n 'obtain': 7,\n \"n's\": 1,\n 'honourable': 2,\n 'ponte': 2,\n 'accursed': 1,\n 'contemptuously': 1,\n 'quixote': 2,\n 'signposts': 1,\n 'knut': 1,\n \"arnold's\": 1,\n 'aspects': 25,\n 'lowest': 3,\n 'clutter': 4,\n 'vandalisation': 1,\n 'concludes': 1,\n 'hatzfeld': 1,\n 'simonp': 1,\n 'temporary': 12,\n 'garasanin': 1,\n 'policing': 2,\n 'initiative': 5,\n \"game's\": 1,\n 'binienda': 1,\n 'pgdm': 1,\n 'zealots': 1,\n 'libel': 7,\n 'retaliatory': 3,\n 'kis': 1,\n 'artwork': 2,\n 'clockwork': 1,\n 'sovereignty': 4,\n 'hrm': 1,\n 'windy': 1,\n 'aman': 1,\n 'dawes': 1,\n 'ln': 1,\n 'memphis': 1,\n 'abounding': 1,\n 'sweared': 1,\n \"bohr's\": 1,\n 'hermaetic': 1,\n 'wispier': 1,\n 'neblett': 1,\n 'inadequacies': 2,\n 'choujuu': 1,\n 'akiva': 1,\n 'prop': 1,\n 'topgun': 1,\n 'мной': 1,\n 'tamil': 6,\n 'vyvanse': 1,\n 'amalfi': 1,\n \"o'hara\": 1,\n 'thier': 4,\n 'irrefutable': 3,\n 'iamunknown': 2,\n 'sice': 1,\n 'cosign': 1,\n 'molester': 2,\n 'afghanistan': 11,\n 'alerted': 1,\n 'crests': 2,\n 'brands': 2,\n 'initiatives': 2,\n 'soon115': 1,\n 'fortresses': 2,\n 'fleet': 8,\n 'society': 35,\n 'mervyn': 1,\n 'reorganizing': 4,\n \"message'\": 1,\n 'prayers': 2,\n 'modifier': 1,\n 'jaworowska': 1,\n 'rcarecordslabel': 1,\n 'eyewitness': 1,\n 'refuse': 16,\n 'ammendments': 1,\n \"'with\": 1,\n 'disallows': 1,\n 'below': 146,\n 'combine': 6,\n 'ellesmere': 1,\n '2007': 104,\n 'accordingly': 24,\n 'rostrum': 1,\n 'manacles': 1,\n 'wgfinley': 1,\n 'chadbryant': 1,\n 'bun': 1,\n 'i̇negöl': 1,\n 'advisable': 2,\n 'convese': 1,\n \"'dave'\": 1,\n 'crontab': 1,\n 'ο': 1,\n 'nationwide': 1,\n 'hollywood': 6,\n 'sections': 80,\n 'deactivation': 1,\n 'tso1d': 1,\n 'racieum': 1,\n 'fucked': 10,\n 'opinio': 1,\n 'glasgow': 2,\n 'contrary': 36,\n 'isn': 1,\n 'deterioration': 1,\n 'setts': 1,\n 'drinking': 8,\n 'abusive': 19,\n 'rudeness': 3,\n 'faizan': 2,\n 'packaging': 1,\n 'yak': 1,\n 'belgium': 2,\n 'ts': 5,\n 'rebel': 7,\n 'ikiroid': 1,\n 'usl': 1,\n 'classify': 6,\n 'mikhaul': 1,\n 'proactive': 1,\n \"azalea's\": 1,\n 'insult': 27,\n 'wikipage': 3,\n 'fatuorum': 9,\n 'decision94': 1,\n 'stoop': 2,\n 'chatty': 2,\n 'inneundo': 1,\n 'patiently': 3,\n 'confiscation': 1,\n 'lp101': 1,\n 'wikinews': 3,\n 'incotw': 1,\n 'adjusting': 2,\n 'orthopods': 1,\n 'chipping': 1,\n 'excalibur': 1,\n 'michelutti': 1,\n 'dumbing': 1,\n 'uhhhhh': 2,\n 'abtracts': 1,\n 'liberator': 1,\n 'thebe': 1,\n 'weeny': 1,\n '“pov': 1,\n 'ripe': 2,\n 'lacing': 1,\n \"ward's\": 1,\n '95l': 1,\n 'wicca': 2,\n 'trafalgar': 1,\n 'terrena': 1,\n 'vernet': 1,\n 'troupes': 1,\n 'experience': 59,\n 'devi': 1,\n \"journalist'\": 1,\n 'sod': 1,\n 'pond': 1,\n 'shouty': 1,\n '712': 1,\n 'agra': 1,\n 'loadee': 3,\n \"video's\": 1,\n 'axmann8': 1,\n 'jingiby': 3,\n 'stealing': 2,\n 'wikians': 1,\n 'josé': 1,\n 'supaman': 1,\n 'depression': 9,\n 'consideration': 30,\n 'aaaboyz1': 1,\n 'simultaneouly': 1,\n 'interacted': 1,\n 'curious': 32,\n '5827835': 1,\n 'fabricas': 1,\n 'slaughter': 2,\n \"ren's\": 1,\n ...}"
      ]
     },
     "execution_count": 10,
     "metadata": {},
     "output_type": "execute_result"
    }
   ],
   "source": [
    "tokenizer.word_docs"
   ]
  },
  {
   "cell_type": "code",
   "execution_count": 11,
   "metadata": {},
   "outputs": [],
   "source": [
    "import nltk"
   ]
  },
  {
   "cell_type": "code",
   "execution_count": 12,
   "metadata": {},
   "outputs": [
    {
     "name": "stdout",
     "output_type": "stream",
     "text": [
      "showing info https://raw.githubusercontent.com/nltk/nltk_data/gh-pages/index.xml\n"
     ]
    }
   ],
   "source": [
    "nltk.download_gui()"
   ]
  }
 ],
 "metadata": {
  "kernelspec": {
   "display_name": "Python 2",
   "language": "python",
   "name": "python2"
  },
  "language_info": {
   "codemirror_mode": {
    "name": "ipython",
    "version": 2
   },
   "file_extension": ".py",
   "mimetype": "text/x-python",
   "name": "python",
   "nbconvert_exporter": "python",
   "pygments_lexer": "ipython2",
   "version": "2.7.6"
  }
 },
 "nbformat": 4,
 "nbformat_minor": 0
}
